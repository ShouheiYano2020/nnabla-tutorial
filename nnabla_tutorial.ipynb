{
  "nbformat": 4,
  "nbformat_minor": 0,
  "metadata": {
    "colab": {
      "name": "nnabla_tutorial.ipynb",
      "provenance": []
    },
    "kernelspec": {
      "name": "python3",
      "display_name": "Python 3"
    }
  },
  "cells": [
    {
      "cell_type": "code",
      "metadata": {
        "id": "SfdqkeROMWko",
        "colab_type": "code",
        "colab": {
          "base_uri": "https://localhost:8080/",
          "height": 1000
        },
        "outputId": "c76cf9d4-51d9-4e6e-cd14-13921298a026"
      },
      "source": [
        "!pip  install nnabla\n",
        "!pip install nnabla-ext-cuda101\n",
        "!git clone https://github.com/sony/nnabla-examples.git\n",
        "%cd nnabla-examples"
      ],
      "execution_count": 1,
      "outputs": [
        {
          "output_type": "stream",
          "text": [
            "Collecting nnabla\n",
            "\u001b[?25l  Downloading https://files.pythonhosted.org/packages/8c/d9/ed39fe15bbf289679ed2beac03c5798fa4aed5a11a3a30caa73a528d34c2/nnabla-1.9.0-cp36-cp36m-manylinux1_x86_64.whl (14.8MB)\n",
            "\u001b[K     |████████████████████████████████| 14.8MB 314kB/s \n",
            "\u001b[?25hCollecting onnx\n",
            "\u001b[?25l  Downloading https://files.pythonhosted.org/packages/36/ee/bc7bc88fc8449266add978627e90c363069211584b937fd867b0ccc59f09/onnx-1.7.0-cp36-cp36m-manylinux1_x86_64.whl (7.4MB)\n",
            "\u001b[K     |████████████████████████████████| 7.4MB 50.9MB/s \n",
            "\u001b[?25hRequirement already satisfied: contextlib2 in /usr/local/lib/python3.6/dist-packages (from nnabla) (0.5.5)\n",
            "Requirement already satisfied: scipy in /usr/local/lib/python3.6/dist-packages (from nnabla) (1.4.1)\n",
            "Requirement already satisfied: boto3 in /usr/local/lib/python3.6/dist-packages (from nnabla) (1.14.9)\n",
            "Requirement already satisfied: pillow in /usr/local/lib/python3.6/dist-packages (from nnabla) (7.0.0)\n",
            "Requirement already satisfied: Cython in /usr/local/lib/python3.6/dist-packages (from nnabla) (0.29.20)\n",
            "Requirement already satisfied: requests in /usr/local/lib/python3.6/dist-packages (from nnabla) (2.23.0)\n",
            "Collecting configparser\n",
            "  Downloading https://files.pythonhosted.org/packages/4b/6b/01baa293090240cf0562cc5eccb69c6f5006282127f2b846fad011305c79/configparser-5.0.0-py3-none-any.whl\n",
            "Requirement already satisfied: tqdm in /usr/local/lib/python3.6/dist-packages (from nnabla) (4.41.1)\n",
            "Requirement already satisfied: protobuf>=3.6 in /usr/local/lib/python3.6/dist-packages (from nnabla) (3.10.0)\n",
            "Requirement already satisfied: h5py in /usr/local/lib/python3.6/dist-packages (from nnabla) (2.10.0)\n",
            "Requirement already satisfied: pyyaml in /usr/local/lib/python3.6/dist-packages (from nnabla) (3.13)\n",
            "Requirement already satisfied: numpy in /usr/local/lib/python3.6/dist-packages (from nnabla) (1.18.5)\n",
            "Requirement already satisfied: six in /usr/local/lib/python3.6/dist-packages (from nnabla) (1.12.0)\n",
            "Requirement already satisfied: setuptools in /usr/local/lib/python3.6/dist-packages (from nnabla) (47.3.1)\n",
            "Requirement already satisfied: imageio in /usr/local/lib/python3.6/dist-packages (from nnabla) (2.4.1)\n",
            "Requirement already satisfied: typing-extensions>=3.6.2.1 in /usr/local/lib/python3.6/dist-packages (from onnx->nnabla) (3.6.6)\n",
            "Requirement already satisfied: s3transfer<0.4.0,>=0.3.0 in /usr/local/lib/python3.6/dist-packages (from boto3->nnabla) (0.3.3)\n",
            "Requirement already satisfied: botocore<1.18.0,>=1.17.9 in /usr/local/lib/python3.6/dist-packages (from boto3->nnabla) (1.17.9)\n",
            "Requirement already satisfied: jmespath<1.0.0,>=0.7.1 in /usr/local/lib/python3.6/dist-packages (from boto3->nnabla) (0.10.0)\n",
            "Requirement already satisfied: chardet<4,>=3.0.2 in /usr/local/lib/python3.6/dist-packages (from requests->nnabla) (3.0.4)\n",
            "Requirement already satisfied: urllib3!=1.25.0,!=1.25.1,<1.26,>=1.21.1 in /usr/local/lib/python3.6/dist-packages (from requests->nnabla) (1.24.3)\n",
            "Requirement already satisfied: certifi>=2017.4.17 in /usr/local/lib/python3.6/dist-packages (from requests->nnabla) (2020.6.20)\n",
            "Requirement already satisfied: idna<3,>=2.5 in /usr/local/lib/python3.6/dist-packages (from requests->nnabla) (2.9)\n",
            "Requirement already satisfied: docutils<0.16,>=0.10 in /usr/local/lib/python3.6/dist-packages (from botocore<1.18.0,>=1.17.9->boto3->nnabla) (0.15.2)\n",
            "Requirement already satisfied: python-dateutil<3.0.0,>=2.1 in /usr/local/lib/python3.6/dist-packages (from botocore<1.18.0,>=1.17.9->boto3->nnabla) (2.8.1)\n",
            "Installing collected packages: onnx, configparser, nnabla\n",
            "Successfully installed configparser-5.0.0 nnabla-1.9.0 onnx-1.7.0\n",
            "Collecting nnabla-ext-cuda101\n",
            "\u001b[?25l  Downloading https://files.pythonhosted.org/packages/91/59/658059c63863adcd824db196b11544cb16fddb8edacf4e8db11df9393947/nnabla_ext_cuda101-1.8.0-cp36-cp36m-manylinux1_x86_64.whl (25.3MB)\n",
            "\u001b[K     |████████████████████████████████| 25.3MB 176kB/s \n",
            "\u001b[?25hRequirement already satisfied: setuptools in /usr/local/lib/python3.6/dist-packages (from nnabla-ext-cuda101) (47.3.1)\n",
            "Collecting nnabla==1.8.0\n",
            "\u001b[?25l  Downloading https://files.pythonhosted.org/packages/2f/ea/b47b636e0e8bdf9d4b046995eee5e18d79010603f55531143f7013e95964/nnabla-1.8.0-cp36-cp36m-manylinux1_x86_64.whl (14.3MB)\n",
            "\u001b[K     |████████████████████████████████| 14.3MB 325kB/s \n",
            "\u001b[?25hRequirement already satisfied: configparser in /usr/local/lib/python3.6/dist-packages (from nnabla==1.8.0->nnabla-ext-cuda101) (5.0.0)\n",
            "Requirement already satisfied: requests in /usr/local/lib/python3.6/dist-packages (from nnabla==1.8.0->nnabla-ext-cuda101) (2.23.0)\n",
            "Requirement already satisfied: scipy in /usr/local/lib/python3.6/dist-packages (from nnabla==1.8.0->nnabla-ext-cuda101) (1.4.1)\n",
            "Requirement already satisfied: onnx in /usr/local/lib/python3.6/dist-packages (from nnabla==1.8.0->nnabla-ext-cuda101) (1.7.0)\n",
            "Requirement already satisfied: tqdm in /usr/local/lib/python3.6/dist-packages (from nnabla==1.8.0->nnabla-ext-cuda101) (4.41.1)\n",
            "Requirement already satisfied: Cython in /usr/local/lib/python3.6/dist-packages (from nnabla==1.8.0->nnabla-ext-cuda101) (0.29.20)\n",
            "Requirement already satisfied: contextlib2 in /usr/local/lib/python3.6/dist-packages (from nnabla==1.8.0->nnabla-ext-cuda101) (0.5.5)\n",
            "Requirement already satisfied: protobuf>=3.6 in /usr/local/lib/python3.6/dist-packages (from nnabla==1.8.0->nnabla-ext-cuda101) (3.10.0)\n",
            "Requirement already satisfied: pillow in /usr/local/lib/python3.6/dist-packages (from nnabla==1.8.0->nnabla-ext-cuda101) (7.0.0)\n",
            "Requirement already satisfied: imageio in /usr/local/lib/python3.6/dist-packages (from nnabla==1.8.0->nnabla-ext-cuda101) (2.4.1)\n",
            "Requirement already satisfied: numpy in /usr/local/lib/python3.6/dist-packages (from nnabla==1.8.0->nnabla-ext-cuda101) (1.18.5)\n",
            "Requirement already satisfied: pyyaml in /usr/local/lib/python3.6/dist-packages (from nnabla==1.8.0->nnabla-ext-cuda101) (3.13)\n",
            "Requirement already satisfied: six in /usr/local/lib/python3.6/dist-packages (from nnabla==1.8.0->nnabla-ext-cuda101) (1.12.0)\n",
            "Requirement already satisfied: h5py in /usr/local/lib/python3.6/dist-packages (from nnabla==1.8.0->nnabla-ext-cuda101) (2.10.0)\n",
            "Requirement already satisfied: boto3 in /usr/local/lib/python3.6/dist-packages (from nnabla==1.8.0->nnabla-ext-cuda101) (1.14.9)\n",
            "Requirement already satisfied: chardet<4,>=3.0.2 in /usr/local/lib/python3.6/dist-packages (from requests->nnabla==1.8.0->nnabla-ext-cuda101) (3.0.4)\n",
            "Requirement already satisfied: certifi>=2017.4.17 in /usr/local/lib/python3.6/dist-packages (from requests->nnabla==1.8.0->nnabla-ext-cuda101) (2020.6.20)\n",
            "Requirement already satisfied: idna<3,>=2.5 in /usr/local/lib/python3.6/dist-packages (from requests->nnabla==1.8.0->nnabla-ext-cuda101) (2.9)\n",
            "Requirement already satisfied: urllib3!=1.25.0,!=1.25.1,<1.26,>=1.21.1 in /usr/local/lib/python3.6/dist-packages (from requests->nnabla==1.8.0->nnabla-ext-cuda101) (1.24.3)\n",
            "Requirement already satisfied: typing-extensions>=3.6.2.1 in /usr/local/lib/python3.6/dist-packages (from onnx->nnabla==1.8.0->nnabla-ext-cuda101) (3.6.6)\n",
            "Requirement already satisfied: s3transfer<0.4.0,>=0.3.0 in /usr/local/lib/python3.6/dist-packages (from boto3->nnabla==1.8.0->nnabla-ext-cuda101) (0.3.3)\n",
            "Requirement already satisfied: botocore<1.18.0,>=1.17.9 in /usr/local/lib/python3.6/dist-packages (from boto3->nnabla==1.8.0->nnabla-ext-cuda101) (1.17.9)\n",
            "Requirement already satisfied: jmespath<1.0.0,>=0.7.1 in /usr/local/lib/python3.6/dist-packages (from boto3->nnabla==1.8.0->nnabla-ext-cuda101) (0.10.0)\n",
            "Requirement already satisfied: docutils<0.16,>=0.10 in /usr/local/lib/python3.6/dist-packages (from botocore<1.18.0,>=1.17.9->boto3->nnabla==1.8.0->nnabla-ext-cuda101) (0.15.2)\n",
            "Requirement already satisfied: python-dateutil<3.0.0,>=2.1 in /usr/local/lib/python3.6/dist-packages (from botocore<1.18.0,>=1.17.9->boto3->nnabla==1.8.0->nnabla-ext-cuda101) (2.8.1)\n",
            "Installing collected packages: nnabla, nnabla-ext-cuda101\n",
            "  Found existing installation: nnabla 1.9.0\n",
            "    Uninstalling nnabla-1.9.0:\n",
            "      Successfully uninstalled nnabla-1.9.0\n",
            "Successfully installed nnabla-1.8.0 nnabla-ext-cuda101-1.8.0\n",
            "Cloning into 'nnabla-examples'...\n",
            "remote: Enumerating objects: 188, done.\u001b[K\n",
            "remote: Counting objects: 100% (188/188), done.\u001b[K\n",
            "remote: Compressing objects: 100% (123/123), done.\u001b[K\n",
            "remote: Total 2673 (delta 81), reused 146 (delta 58), pack-reused 2485\u001b[K\n",
            "Receiving objects: 100% (2673/2673), 27.60 MiB | 10.10 MiB/s, done.\n",
            "Resolving deltas: 100% (1410/1410), done.\n"
          ],
          "name": "stdout"
        }
      ]
    },
    {
      "cell_type": "code",
      "metadata": {
        "id": "4jjhfkPx6IbR",
        "colab_type": "code",
        "colab": {
          "base_uri": "https://localhost:8080/",
          "height": 35
        },
        "outputId": "c60565e3-8643-4568-de6c-9d08b016bee1"
      },
      "source": [
        "%cd nnabla-examples/\n"
      ],
      "execution_count": 2,
      "outputs": [
        {
          "output_type": "stream",
          "text": [
            "/content/nnabla-examples\n"
          ],
          "name": "stdout"
        }
      ]
    },
    {
      "cell_type": "code",
      "metadata": {
        "id": "zKhXoH8-M8zf",
        "colab_type": "code",
        "colab": {
          "base_uri": "https://localhost:8080/",
          "height": 411
        },
        "outputId": "3aaeb571-7194-4d6e-9537-44afdae4bc10"
      },
      "source": [
        "import nnabla as nn\n",
        "\n",
        "import nnabla.functions as F\n",
        "import nnabla.parametric_functions as PF\n",
        "import nnabla.solvers as S\n",
        "from nnabla.monitor import tile_images\n",
        "\n",
        "import numpy as np\n",
        "import matplotlib.pyplot as plt\n",
        "import tiny_digits\n",
        "#matplotlib inline\n",
        "\n",
        "np.random.seed(0)\n",
        "imshow_opt = dict(cmap='gray', interpolation='nearest')\n",
        "\n",
        "digits = tiny_digits.load_digits(n_class=10)\n",
        "tiny_digits.plot_stats(digits)\n",
        "\n",
        "#plt.show()\n",
        "\n",
        "data = tiny_digits.data_iterator_tiny_digits(digits, batch_size=64, shuffle=True)\n",
        "\n",
        "img, label = data.next()\n",
        "plt.imshow(tile_images(img), **imshow_opt)\n",
        "print(\"labels: {}\".format(label.reshape(8, 8)))\n",
        "print(\"Label shape: {}\".format(label.shape))\n",
        "\n",
        "\n",
        "# Forward pass\n",
        "x = nn.Variable(img.shape)  # Define an image variable\n",
        "with nn.parameter_scope(\"affine1\"):\n",
        "    y = PF.affine(x, 10)  # Output is 10 class\n",
        "\n",
        "t = nn.Variable(label.shape)  # Define an target variable\n",
        "loss = F.mean(F.softmax_cross_entropy(y, t))  # Softmax Xentropy fits multi-class classification problems\n",
        "\n",
        "print(x.shape)\n",
        "print(y.shape)\n",
        "print(t.shape)\n",
        "print(loss.shape)  # empty tuple means scalar\n",
        "\n",
        "\n",
        "x.d = img\n",
        "t.d = label\n",
        "# Execute a forward pass\n",
        "loss.forward()\n",
        "# Showing results\n",
        "print(\"Prediction score of 0-th image: {}\".format(y.d[0]))\n",
        "print(\"Loss: {}\".format(loss.d))"
      ],
      "execution_count": 3,
      "outputs": [
        {
          "output_type": "stream",
          "text": [
            "2020-06-27 03:53:45,716 [nnabla][INFO]: Initializing CPU extension...\n"
          ],
          "name": "stderr"
        },
        {
          "output_type": "error",
          "ename": "ModuleNotFoundError",
          "evalue": "ignored",
          "traceback": [
            "\u001b[0;31m---------------------------------------------------------------------------\u001b[0m",
            "\u001b[0;31mModuleNotFoundError\u001b[0m                       Traceback (most recent call last)",
            "\u001b[0;32m<ipython-input-3-f726fb8225db>\u001b[0m in \u001b[0;36m<module>\u001b[0;34m()\u001b[0m\n\u001b[1;32m      8\u001b[0m \u001b[0;32mimport\u001b[0m \u001b[0mnumpy\u001b[0m \u001b[0;32mas\u001b[0m \u001b[0mnp\u001b[0m\u001b[0;34m\u001b[0m\u001b[0;34m\u001b[0m\u001b[0m\n\u001b[1;32m      9\u001b[0m \u001b[0;32mimport\u001b[0m \u001b[0mmatplotlib\u001b[0m\u001b[0;34m.\u001b[0m\u001b[0mpyplot\u001b[0m \u001b[0;32mas\u001b[0m \u001b[0mplt\u001b[0m\u001b[0;34m\u001b[0m\u001b[0;34m\u001b[0m\u001b[0m\n\u001b[0;32m---> 10\u001b[0;31m \u001b[0;32mimport\u001b[0m \u001b[0mtiny_digits\u001b[0m\u001b[0;34m\u001b[0m\u001b[0;34m\u001b[0m\u001b[0m\n\u001b[0m\u001b[1;32m     11\u001b[0m \u001b[0;31m#matplotlib inline\u001b[0m\u001b[0;34m\u001b[0m\u001b[0;34m\u001b[0m\u001b[0;34m\u001b[0m\u001b[0m\n\u001b[1;32m     12\u001b[0m \u001b[0;34m\u001b[0m\u001b[0m\n",
            "\u001b[0;31mModuleNotFoundError\u001b[0m: No module named 'tiny_digits'",
            "",
            "\u001b[0;31m---------------------------------------------------------------------------\u001b[0;32m\nNOTE: If your import is failing due to a missing package, you can\nmanually install dependencies using either !pip or !apt.\n\nTo view examples of installing some common dependencies, click the\n\"Open Examples\" button below.\n\u001b[0;31m---------------------------------------------------------------------------\u001b[0m\n"
          ]
        }
      ]
    },
    {
      "cell_type": "code",
      "metadata": {
        "id": "ilTNltCG9rvc",
        "colab_type": "code",
        "colab": {
          "base_uri": "https://localhost:8080/",
          "height": 54
        },
        "outputId": "fc37ca3a-efc7-46fa-e75b-eba13f6c8199"
      },
      "source": [
        "print(nn.get_parameters())"
      ],
      "execution_count": null,
      "outputs": [
        {
          "output_type": "stream",
          "text": [
            "OrderedDict([('affine1/affine/W', <Variable((64, 10), need_grad=True) at 0x7feb84f39048>), ('affine1/affine/b', <Variable((10,), need_grad=True) at 0x7feb84f4c408>)])\n"
          ],
          "name": "stdout"
        }
      ]
    },
    {
      "cell_type": "code",
      "metadata": {
        "id": "dHBDgVWbAjOF",
        "colab_type": "code",
        "colab": {}
      },
      "source": [
        "for param in nn.get_parameters().values():\n",
        "    param.grad.zero()"
      ],
      "execution_count": null,
      "outputs": []
    },
    {
      "cell_type": "code",
      "metadata": {
        "id": "bh-Mac9pAoyn",
        "colab_type": "code",
        "colab": {
          "base_uri": "https://localhost:8080/",
          "height": 159
        },
        "outputId": "1bdee976-18a9-4ff9-cc4b-4e1f13069606"
      },
      "source": [
        "# Compute backward\n",
        "loss.backward()\n",
        "# Showing gradients.\n",
        "for name, param in nn.get_parameters().items():\n",
        "    print(name, param.shape, param.g.flat[:20])  # Showing first 20."
      ],
      "execution_count": null,
      "outputs": [
        {
          "output_type": "stream",
          "text": [
            "affine1/affine/W (64, 10) [ 0.0000000e+00  0.0000000e+00  0.0000000e+00  0.0000000e+00\n",
            "  0.0000000e+00  0.0000000e+00  0.0000000e+00  0.0000000e+00\n",
            "  0.0000000e+00  0.0000000e+00  3.1451762e-01  2.2530122e-04\n",
            " -4.6851587e-02 -6.0762573e-02  6.3644449e-04 -2.0253170e-01\n",
            "  8.7928891e-02 -4.6494704e-02 -1.5426296e-02 -3.1241389e-02]\n",
            "affine1/affine/b (10,) [ 0.03753503 -0.09367488 -0.03121927 -0.06802998 -0.06231093  0.61294395\n",
            " -0.0296303  -0.17176978 -0.11591194 -0.0779319 ]\n"
          ],
          "name": "stdout"
        }
      ]
    },
    {
      "cell_type": "code",
      "metadata": {
        "id": "rVBS-bpcAzQL",
        "colab_type": "code",
        "colab": {}
      },
      "source": [
        "learning_rate = 1e-3\n",
        "solver = S.Sgd(learning_rate)\n",
        "solver.set_parameters(nn.get_parameters())  # Set parameter variables to be updated."
      ],
      "execution_count": null,
      "outputs": []
    },
    {
      "cell_type": "code",
      "metadata": {
        "id": "7669dXQJA5s5",
        "colab_type": "code",
        "colab": {
          "base_uri": "https://localhost:8080/",
          "height": 34
        },
        "outputId": "f92bdb1a-f3cb-4248-994a-d98c2c9bf349"
      },
      "source": [
        "# One step of training\n",
        "x.d, t.d = data.next()\n",
        "loss.forward()\n",
        "solver.zero_grad()  # Initialize gradients of all parameters to zero.\n",
        "loss.backward()\n",
        "solver.weight_decay(1e-5)  # Applying weight decay as an regularization\n",
        "solver.update()\n",
        "print(loss.d)"
      ],
      "execution_count": null,
      "outputs": [
        {
          "output_type": "stream",
          "text": [
            "15.457939\n"
          ],
          "name": "stdout"
        }
      ]
    },
    {
      "cell_type": "code",
      "metadata": {
        "id": "Fb-0WIsJA-sh",
        "colab_type": "code",
        "colab": {
          "base_uri": "https://localhost:8080/",
          "height": 892
        },
        "outputId": "e162d373-d546-42f6-f58f-8a3669b7d3d6"
      },
      "source": [
        "for i in range(5000):\n",
        "    x.d, t.d = data.next()\n",
        "    loss.forward()\n",
        "    solver.zero_grad()  # Initialize gradients of all parameters to zero.\n",
        "    loss.backward()\n",
        "    solver.weight_decay(1e-5)  # Applying weight decay as an regularization\n",
        "    solver.update()\n",
        "    if i % 100 == 0:  # Print for each 10 iterations\n",
        "        print(i, loss.d)"
      ],
      "execution_count": null,
      "outputs": [
        {
          "output_type": "stream",
          "text": [
            "0 0.4466617\n",
            "100 0.4770356\n",
            "200 0.5257788\n",
            "300 0.37753928\n",
            "400 0.18897423\n",
            "500 0.5024208\n",
            "600 0.2694479\n",
            "700 0.1959987\n",
            "800 0.14201796\n",
            "900 0.17780781\n",
            "1000 0.201103\n",
            "1100 0.13402665\n",
            "1200 0.17208889\n",
            "1300 0.23563789\n",
            "1400 0.16889988\n",
            "1500 0.08942253\n",
            "1600 0.12080401\n",
            "1700 0.091579765\n",
            "1800 0.06710656\n",
            "1900 0.3558392\n",
            "2000 0.14239505\n",
            "2100 0.0988615\n",
            "2200 0.108713694\n",
            "2300 0.11804438\n",
            "2400 0.116035804\n",
            "2500 0.15874235\n",
            "2600 0.051535822\n",
            "2700 0.05826531\n",
            "2800 0.15169814\n",
            "2900 0.096734434\n",
            "3000 0.07809006\n",
            "3100 0.42719477\n",
            "3200 0.122430936\n",
            "3300 0.12062447\n",
            "3400 0.13316977\n",
            "3500 0.074152246\n",
            "3600 0.047550194\n",
            "3700 0.32086784\n",
            "3800 0.085215956\n",
            "3900 0.05159476\n",
            "4000 0.050577566\n",
            "4100 0.058642894\n",
            "4200 0.17417073\n",
            "4300 0.24651015\n",
            "4400 0.12784608\n",
            "4500 0.051525757\n",
            "4600 0.27554172\n",
            "4700 0.19152734\n",
            "4800 0.036134366\n",
            "4900 0.08243171\n"
          ],
          "name": "stdout"
        }
      ]
    },
    {
      "cell_type": "code",
      "metadata": {
        "id": "sMk-S1ceBFKV",
        "colab_type": "code",
        "colab": {
          "base_uri": "https://localhost:8080/",
          "height": 425
        },
        "outputId": "52262357-8190-4a8b-87ed-7fafe12bde94"
      },
      "source": [
        "x.d, t.d = data.next()  # Here we predict images from training set although it's useless.\n",
        "y.forward()  # You can execute a sub graph.\n",
        "plt.imshow(tile_images(x.d), **imshow_opt)\n",
        "print(\"prediction:\")\n",
        "print(y.d.argmax(axis=1).reshape(8, 8))  # Taking a class index based on prediction score.\n"
      ],
      "execution_count": null,
      "outputs": [
        {
          "output_type": "stream",
          "text": [
            "prediction:\n",
            "[[7 8 6 2 2 5 5 5]\n",
            " [1 2 0 3 8 2 4 9]\n",
            " [0 9 5 8 3 6 7 9]\n",
            " [9 4 0 9 6 1 0 8]\n",
            " [7 1 9 6 7 3 1 8]\n",
            " [3 9 8 6 3 9 8 5]\n",
            " [4 2 4 4 2 2 1 7]\n",
            " [6 1 3 8 6 2 3 6]]\n"
          ],
          "name": "stdout"
        },
        {
          "output_type": "display_data",
          "data": {
            "image/png": "[encoded data removed]",
            "text/plain": [
              "<Figure size 432x288 with 1 Axes>"
            ]
          },
          "metadata": {
            "tags": [],
            "needs_background": "light"
          }
        }
      ]
    }
  ]
}